{
 "cells": [
  {
   "cell_type": "code",
   "execution_count": 1,
   "metadata": {},
   "outputs": [],
   "source": [
    "#Dependencies\n",
    "import numpy as np     \n",
    "import pandas as pd\n",
    "from splinter import Browser  \n",
    "from selenium import webdriver\n",
    "from bs4 import BeautifulSoup as bs\n",
    "import requests as req\n"
   ]
  },
  {
   "cell_type": "code",
   "execution_count": 2,
   "metadata": {},
   "outputs": [],
   "source": [
    "# define splinter browser\n",
    "executable_path = {'executable_path': '/usr/local/bin/chromedriver'}\n",
    "browser = Browser('chrome', **executable_path, headless = False)\n",
    "\n",
    "#urls\n",
    "base_url = \"https://mars.nasa.gov/\"                                          \n",
    "nasa_url = \"https://mars.nasa.gov/news/\" \n",
    "browser.visit(nasa_url)\n",
    "\n",
    "news_data = {}                                                               \n",
    "mars_paragraph_text = [] \n",
    "\n",
    "# base URL for finding paragraph text/scrape\n",
    "mars_html = browser.html\n",
    "mars_soup = bs(mars_html, \"html.parser\")\n",
    "\n",
    "#grab needed info par_1\n",
    "news_title = mars_soup.find('div', class_=\"bottom_gradient\").text\n",
    "news_p1 = mars_soup.find('div', class_=\"rollover_description_inner\").text\n",
    "\n",
    "#grab needed info par_2\n",
    "mars_soup_div = mars_soup.find(class_=\"content_title\")\n",
    "mars_soup_p2 = mars_soup_div.find_all('a', href=True)                                   \n",
    "mars_soup_p2_url = mars_soup_p2[0]['href']                                               \n",
    "mars_paragraph_url = base_url + mars_soup_p2_url \n",
    "\n",
    "response = req.get(mars_paragraph_url)                                          \n",
    "mars_para_soup = bs(response.text, \"html.parser\")                                \n",
    "mars_paragraphs = mars_para_soup.find(class_='wysiwyg_content')                     \n",
    "All_paragraphs = mars_paragraphs.find_all('p') \n",
    "\n",
    "browser.quit() \n"
   ]
  },
  {
   "cell_type": "code",
   "execution_count": 3,
   "metadata": {},
   "outputs": [
    {
     "data": {
      "text/plain": [
       "\"On Nov. 26, NASA's InSight mission knew the spacecraft touched down within an 81-mile-long (130-kilometer-long) landing ellipse on Mars. Now, the team has pinpointed InSight's exact location using images from HiRISE, a powerful camera onboard another NASA spacecraft, Mars Reconnaissance Orbiter (MRO).\""
      ]
     },
     "execution_count": 3,
     "metadata": {},
     "output_type": "execute_result"
    }
   ],
   "source": [
    "for paragraph in All_paragraphs:                                                 # iterates through paragraphs\n",
    "    clean_paragraph = paragraph.get_text().strip()                           # extracts and cleans paragraphs    \n",
    "    mars_paragraph_text.append(clean_paragraph)\n",
    "    \n",
    "mars_paragraph_text[0]"
   ]
  },
  {
   "cell_type": "code",
   "execution_count": 4,
   "metadata": {},
   "outputs": [],
   "source": [
    "#mars_paragraph_text[1]\n",
    "news_data[\"mars_paragraph_text_1\"] = mars_paragraph_text[0]"
   ]
  },
  {
   "cell_type": "code",
   "execution_count": null,
   "metadata": {},
   "outputs": [],
   "source": [
    "#JPL Mars Space Images \n",
    "browser = Browser('chrome', **executable_path, headless = False)                                  \n",
    "jpl_fullsize_url = 'https://photojournal.jpl.nasa.gov/jpeg/'                 \n",
    "jpl_url = \"https://www.jpl.nasa.gov/spaceimages/?search=&category=Mars\" \n",
    "\n",
    "browser.visit(jpl_url)                                                       \n",
    "jpl_html = browser.html                                                      \n",
    "jpl_soup = bs(jpl_html, 'html.parser')"
   ]
  },
  {
   "cell_type": "code",
   "execution_count": null,
   "metadata": {},
   "outputs": [],
   "source": [
    "feat_image_list = []                                                     \n",
    "\n",
    "for image in jpl_soup.find_all('div',class_=\"img\"):                          \n",
    "    feat_image_list.append(image.find('img').get('src')) \n",
    "    \n",
    "feat_image = feat_image_list[0]                                       \n",
    "temp_list_1 = feat_image.split('-')                                       \n",
    "temp_list_2 = temp_list_1[0].split('/')                                      \n",
    "feat_image_url = jpl_fullsize_url + temp_list_2[-1] + '.jpg'\n",
    "\n",
    "feat_image_url"
   ]
  },
  {
   "cell_type": "code",
   "execution_count": null,
   "metadata": {},
   "outputs": [],
   "source": [
    "browser.quit() "
   ]
  },
  {
   "cell_type": "code",
   "execution_count": null,
   "metadata": {},
   "outputs": [],
   "source": [
    "#Mars Weather\n",
    "browser = Browser('chrome', **executable_path, headless = False)                                \n",
    "tweeter_url = 'https://twitter.com/marswxreport?lang=en'                       \n",
    "browser.visit(tweeter_url)\n",
    "tweeter_html = browser.html                                                    \n",
    "tweeter_soup = bs(tweeter_html, 'html.parser')\n",
    "\n",
    "weather_info_list = []                                                       \n",
    "\n",
    "# extracts all tweets from soup\n",
    "for weather_info in tweeter_soup.find_all('p',class_=\"TweetTextSize TweetTextSize--normal js-tweet-text tweet-text\"):\n",
    "    weather_info_list.append(weather_info.text.strip()) \n",
    "    \n",
    "for value in reversed(weather_info_list):                                    \n",
    "    if value[:3]=='Sol':                                                     \n",
    "        mars_weather = value\n",
    "        \n",
    "mars_weather"
   ]
  },
  {
   "cell_type": "code",
   "execution_count": null,
   "metadata": {},
   "outputs": [],
   "source": [
    "browser.quit() "
   ]
  },
  {
   "cell_type": "code",
   "execution_count": null,
   "metadata": {},
   "outputs": [],
   "source": [
    "#Mars Facts in df to html table\n",
    "facts_url = 'https://space-facts.com/mars/' \n",
    "fact_list = pd.read_html(facts_url)\n",
    "\n",
    "facts_df = fact_list[0]\n",
    "\n",
    "facts_table = facts_df.to_html(header=False, index=False)                   \n",
    "print(facts_table)\n"
   ]
  },
  {
   "cell_type": "code",
   "execution_count": null,
   "metadata": {},
   "outputs": [],
   "source": [
    "#Mars Hemisperes\n",
    "                                                                 \n",
    "browser = Browser('chrome', **executable_path, headless = False)\n",
    "usgs_url = 'https://astrogeology.usgs.gov/search/results?q=hemisphere+enhanced&k1=target&v1=Mars'\n",
    "browser.visit(usgs_url) \n",
    "\n",
    "usgs_html = browser.html                                                     \n",
    "usgs_soup = bs(usgs_html, 'html.parser') \n",
    "\n",
    "hemisphere_image_urls = []                                                   \n",
    "\n",
    "products = usgs_soup.find('div', class_='result-list')                       \n",
    "hemispheres = products.find_all('div', class_='item')                        \n",
    "\n",
    "for hemisphere in hemispheres:                                               \n",
    "    title = hemisphere.find('div', class_='description')\n",
    "    \n",
    "    title_text = title.a.text                                                \n",
    "    title_text = title_text.replace(' Enhanced', '')\n",
    "    browser.click_link_by_partial_text(title_text)                           \n",
    "    \n",
    "    usgs_html = browser.html                                                 \n",
    "    usgs_soup = bs(usgs_html, 'html.parser')                                 \n",
    "    \n",
    "    image = usgs_soup.find('div', class_='downloads').find('ul').find('li')  \n",
    "    img_url = image.a['href']\n",
    "    \n",
    "    hemisphere_image_urls.append({'title': title_text, 'img_url': img_url})   \n",
    "    \n",
    "    browser.click_link_by_partial_text('Back') \n",
    "    \n",
    "hemisphere_image_urls"
   ]
  },
  {
   "cell_type": "code",
   "execution_count": null,
   "metadata": {},
   "outputs": [],
   "source": [
    "browser.quit()"
   ]
  },
  {
   "cell_type": "code",
   "execution_count": null,
   "metadata": {},
   "outputs": [],
   "source": []
  }
 ],
 "metadata": {
  "kernelspec": {
   "display_name": "Python [default]",
   "language": "python",
   "name": "python3"
  },
  "language_info": {
   "codemirror_mode": {
    "name": "ipython",
    "version": 3
   },
   "file_extension": ".py",
   "mimetype": "text/x-python",
   "name": "python",
   "nbconvert_exporter": "python",
   "pygments_lexer": "ipython3",
   "version": "3.6.5"
  }
 },
 "nbformat": 4,
 "nbformat_minor": 2
}
